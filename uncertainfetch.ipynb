{
 "cells": [
  {
   "cell_type": "code",
   "execution_count": 15,
   "id": "3a436ba1",
   "metadata": {},
   "outputs": [],
   "source": [
    "import urllib.request\n",
    "import pandas as pd\n",
    "from astropy.coordinates import SkyCoord\n",
    "from astroquery.sdss import SDSS\n",
    "from astropy import units as u\n",
    "\n",
    "# Load the dataset\n",
    "data = pd.read_csv('result3.csv')\n",
    "\n",
    "\n",
    "# Convert the ra and dec columns to decimal format\n",
    "coords = SkyCoord(data['ra'], data['dec'], unit=(u.hourangle, u.deg))\n",
    "ra_decimal = coords.ra.deg\n",
    "dec_decimal = coords.dec.deg"
   ]
  },
  {
   "cell_type": "code",
   "execution_count": 16,
   "id": "03aef9cd",
   "metadata": {},
   "outputs": [],
   "source": [
    "import os\n",
    "def fetch_image(ra, dec, size=1024, output_file='galaxy.jpg'):\n",
    "    url = f'http://skyservice.pha.jhu.edu/DR12/ImgCutout/getjpeg.aspx?ra={ra}&dec={dec}&scale=0.15&width=256&height=256'\n",
    "    urllib.request.urlretrieve(url, output_file)\n",
    "\n",
    "# Create folders for each category\n",
    "if not os.path.exists(\"uncertain\"):\n",
    "    os.mkdir(\"uncertain\")\n",
    "    \n",
    "    \n",
    "# Iterate through the rows in the dataset\n",
    "for i, row in data.iterrows():\n",
    "    \n",
    "    # Fetch and download the image\n",
    "    fetch_image(ra_decimal[i], dec_decimal[i], output_file=f'galaxy_{i}.jpg')\n",
    "    os.rename(f'galaxy_{i}.jpg', f'uncertain/galaxy_{i}.jpg')\n",
    "        "
   ]
  },
  {
   "cell_type": "code",
   "execution_count": null,
   "id": "c1a846ba",
   "metadata": {},
   "outputs": [],
   "source": []
  }
 ],
 "metadata": {
  "kernelspec": {
   "display_name": "Python 3 (ipykernel)",
   "language": "python",
   "name": "python3"
  },
  "language_info": {
   "codemirror_mode": {
    "name": "ipython",
    "version": 3
   },
   "file_extension": ".py",
   "mimetype": "text/x-python",
   "name": "python",
   "nbconvert_exporter": "python",
   "pygments_lexer": "ipython3",
   "version": "3.9.7"
  }
 },
 "nbformat": 4,
 "nbformat_minor": 5
}
